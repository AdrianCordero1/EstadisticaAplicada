{
 "cells": [
  {
   "cell_type": "markdown",
   "metadata": {},
   "source": [
    "## Estadistica Aplicada\n",
    "\n",
    "3er Examen Parcial\n",
    "\n",
    "Jesus Adrian Cordero Hernandez 1952778\n",
    "\n",
    "Gpo 41"
   ]
  },
  {
   "cell_type": "code",
   "execution_count": 96,
   "metadata": {},
   "outputs": [],
   "source": [
    "## Librerias basicas\n",
    "import pandas as pd\n",
    "import numpy as np\n",
    "import matplotlib.pyplot as plt\n",
    "%matplotlib inline"
   ]
  },
  {
   "cell_type": "code",
   "execution_count": 97,
   "metadata": {},
   "outputs": [],
   "source": [
    "## Librerias especializadas\n",
    "from statsmodels.tsa.stattools import adfuller\n",
    "from statsmodels.graphics.tsaplots import plot_acf\n",
    "from statsmodels.graphics.tsaplots import plot_pacf\n",
    "from statsmodels.tsa.arima.model import ARIMA\n",
    "from statsmodels.graphics.tsaplots import plot_predict\n",
    "from statsmodels.tsa.holtwinters import ExponentialSmoothing\n",
    "from statsmodels.tsa.seasonal import seasonal_decompose\n",
    "import statsmodels.api as sm\n",
    "import pmdarima as pm"
   ]
  },
  {
   "cell_type": "code",
   "execution_count": 98,
   "metadata": {},
   "outputs": [
    {
     "data": {
      "text/html": [
       "<div>\n",
       "<style scoped>\n",
       "    .dataframe tbody tr th:only-of-type {\n",
       "        vertical-align: middle;\n",
       "    }\n",
       "\n",
       "    .dataframe tbody tr th {\n",
       "        vertical-align: top;\n",
       "    }\n",
       "\n",
       "    .dataframe thead th {\n",
       "        text-align: right;\n",
       "    }\n",
       "</style>\n",
       "<table border=\"1\" class=\"dataframe\">\n",
       "  <thead>\n",
       "    <tr style=\"text-align: right;\">\n",
       "      <th></th>\n",
       "      <th>mes</th>\n",
       "      <th>miles de pasajeros</th>\n",
       "      <th>ingresos (miles de pesos)</th>\n",
       "    </tr>\n",
       "  </thead>\n",
       "  <tbody>\n",
       "    <tr>\n",
       "      <th>0</th>\n",
       "      <td>1995/01</td>\n",
       "      <td>3439.000</td>\n",
       "      <td>3240.000</td>\n",
       "    </tr>\n",
       "    <tr>\n",
       "      <th>1</th>\n",
       "      <td>1995/02</td>\n",
       "      <td>2879.000</td>\n",
       "      <td>3623.000</td>\n",
       "    </tr>\n",
       "    <tr>\n",
       "      <th>2</th>\n",
       "      <td>1995/03</td>\n",
       "      <td>3103.000</td>\n",
       "      <td>3990.000</td>\n",
       "    </tr>\n",
       "    <tr>\n",
       "      <th>3</th>\n",
       "      <td>1995/04</td>\n",
       "      <td>3491.000</td>\n",
       "      <td>3321.000</td>\n",
       "    </tr>\n",
       "    <tr>\n",
       "      <th>4</th>\n",
       "      <td>1995/05</td>\n",
       "      <td>3109.000</td>\n",
       "      <td>3777.000</td>\n",
       "    </tr>\n",
       "    <tr>\n",
       "      <th>...</th>\n",
       "      <td>...</td>\n",
       "      <td>...</td>\n",
       "      <td>...</td>\n",
       "    </tr>\n",
       "    <tr>\n",
       "      <th>339</th>\n",
       "      <td>2023/04</td>\n",
       "      <td>9523.669</td>\n",
       "      <td>38799.657</td>\n",
       "    </tr>\n",
       "    <tr>\n",
       "      <th>340</th>\n",
       "      <td>2023/05</td>\n",
       "      <td>11891.646</td>\n",
       "      <td>58511.798</td>\n",
       "    </tr>\n",
       "    <tr>\n",
       "      <th>341</th>\n",
       "      <td>2023/06</td>\n",
       "      <td>10657.712</td>\n",
       "      <td>55684.063</td>\n",
       "    </tr>\n",
       "    <tr>\n",
       "      <th>342</th>\n",
       "      <td>2023/07</td>\n",
       "      <td>10894.497</td>\n",
       "      <td>56378.304</td>\n",
       "    </tr>\n",
       "    <tr>\n",
       "      <th>343</th>\n",
       "      <td>2023/08</td>\n",
       "      <td>12201.982</td>\n",
       "      <td>57821.901</td>\n",
       "    </tr>\n",
       "  </tbody>\n",
       "</table>\n",
       "<p>344 rows × 3 columns</p>\n",
       "</div>"
      ],
      "text/plain": [
       "         mes  miles de pasajeros  ingresos (miles de pesos)\n",
       "0    1995/01            3439.000                   3240.000\n",
       "1    1995/02            2879.000                   3623.000\n",
       "2    1995/03            3103.000                   3990.000\n",
       "3    1995/04            3491.000                   3321.000\n",
       "4    1995/05            3109.000                   3777.000\n",
       "..       ...                 ...                        ...\n",
       "339  2023/04            9523.669                  38799.657\n",
       "340  2023/05           11891.646                  58511.798\n",
       "341  2023/06           10657.712                  55684.063\n",
       "342  2023/07           10894.497                  56378.304\n",
       "343  2023/08           12201.982                  57821.901\n",
       "\n",
       "[344 rows x 3 columns]"
      ]
     },
     "execution_count": 98,
     "metadata": {},
     "output_type": "execute_result"
    }
   ],
   "source": [
    "datos = pd.read_csv('https://raw.githubusercontent.com/jimmyzac/Estadistica-Aplicada-FCFM-UANL/main/bases_datos/datos_metrorrey.csv')\n",
    "datos"
   ]
  },
  {
   "cell_type": "markdown",
   "metadata": {},
   "source": [
    "## 1. Muestre de que tipo son las variables del dataframe, revise que no haya missing values (de haberlos imputar valores). Cersiorarse que exista una variable fecha, que sea el index y tenga una frecuencia asignada(1.8 puntos)"
   ]
  },
  {
   "cell_type": "code",
   "execution_count": 99,
   "metadata": {},
   "outputs": [
    {
     "data": {
      "text/plain": [
       "mes                           object\n",
       "miles de pasajeros           float64\n",
       "ingresos (miles de pesos)    float64\n",
       "dtype: object"
      ]
     },
     "execution_count": 99,
     "metadata": {},
     "output_type": "execute_result"
    }
   ],
   "source": [
    "datos.dtypes"
   ]
  },
  {
   "cell_type": "code",
   "execution_count": 100,
   "metadata": {},
   "outputs": [
    {
     "data": {
      "text/plain": [
       "mes                          0\n",
       "miles de pasajeros           0\n",
       "ingresos (miles de pesos)    0\n",
       "dtype: int64"
      ]
     },
     "execution_count": 100,
     "metadata": {},
     "output_type": "execute_result"
    }
   ],
   "source": [
    "datos.isnull().sum()"
   ]
  },
  {
   "cell_type": "code",
   "execution_count": 101,
   "metadata": {},
   "outputs": [],
   "source": [
    "datos['mes']=pd.to_datetime(datos['mes'],format='%Y/%m')"
   ]
  },
  {
   "cell_type": "code",
   "execution_count": 102,
   "metadata": {},
   "outputs": [],
   "source": [
    "## Index\n",
    "datos=datos.set_index('mes')\n",
    "##Frecuencia\n",
    "datos=datos.asfreq('MS')"
   ]
  },
  {
   "cell_type": "code",
   "execution_count": 103,
   "metadata": {},
   "outputs": [
    {
     "data": {
      "text/plain": [
       "DatetimeIndex(['1995-01-01', '1995-02-01', '1995-03-01', '1995-04-01',\n",
       "               '1995-05-01', '1995-06-01', '1995-07-01', '1995-08-01',\n",
       "               '1995-09-01', '1995-10-01',\n",
       "               ...\n",
       "               '2022-11-01', '2022-12-01', '2023-01-01', '2023-02-01',\n",
       "               '2023-03-01', '2023-04-01', '2023-05-01', '2023-06-01',\n",
       "               '2023-07-01', '2023-08-01'],\n",
       "              dtype='datetime64[ns]', name='mes', length=344, freq='MS')"
      ]
     },
     "execution_count": 103,
     "metadata": {},
     "output_type": "execute_result"
    }
   ],
   "source": [
    "datos.index"
   ]
  },
  {
   "cell_type": "markdown",
   "metadata": {},
   "source": [
    "## 2. Análisis  exploratorio.  Utilizando  código  de  Python  genera  un  print()para  cada una de la siguiente información(8 puntos):"
   ]
  },
  {
   "cell_type": "markdown",
   "metadata": {},
   "source": [
    "## a) Rango de fechas"
   ]
  },
  {
   "cell_type": "code",
   "execution_count": 104,
   "metadata": {},
   "outputs": [
    {
     "name": "stdout",
     "output_type": "stream",
     "text": [
      "El rango de fechas es de 1995-01-01 00:00:00 a 2023-08-01 00:00:00\n"
     ]
    }
   ],
   "source": [
    "print('El rango de fechas es de', datos.index[0], 'a', datos.index[-1])"
   ]
  },
  {
   "cell_type": "markdown",
   "metadata": {},
   "source": [
    "## b) Número de observaciones"
   ]
  },
  {
   "cell_type": "code",
   "execution_count": 105,
   "metadata": {},
   "outputs": [
    {
     "name": "stdout",
     "output_type": "stream",
     "text": [
      "El numero de observaciones es de 344\n"
     ]
    }
   ],
   "source": [
    "print('El numero de observaciones es de', datos['miles de pasajeros'].count())"
   ]
  },
  {
   "cell_type": "markdown",
   "metadata": {},
   "source": [
    "## c) Valor mínimo y valor máximo del número de pasajeros"
   ]
  },
  {
   "cell_type": "code",
   "execution_count": 106,
   "metadata": {},
   "outputs": [
    {
     "name": "stdout",
     "output_type": "stream",
     "text": [
      "El valor minimo de pasajeros es 2397.0 y el numero maximo de pasajeros es 17534.523\n"
     ]
    }
   ],
   "source": [
    "print('El valor minimo de pasajeros es', datos[\"miles de pasajeros\"].min(), 'y el numero maximo de pasajeros es', datos[\"miles de pasajeros\"].max())"
   ]
  },
  {
   "cell_type": "markdown",
   "metadata": {},
   "source": [
    "## 3. Grafica lo siguiente(8.2 puntos):"
   ]
  },
  {
   "cell_type": "markdown",
   "metadata": {},
   "source": [
    "## a) La serie de miles de pasajeros"
   ]
  },
  {
   "cell_type": "code",
   "execution_count": 107,
   "metadata": {},
   "outputs": [
    {
     "data": {
      "image/png": "[encoded data removed]",
      "text/plain": [
       "<Figure size 640x480 with 1 Axes>"
      ]
     },
     "metadata": {},
     "output_type": "display_data"
    }
   ],
   "source": [
    "datos['miles de pasajeros'].plot()\n",
    "plt.title('Serie de miles de pasajeros')\n",
    "plt.xlabel('Meses')\n",
    "plt.ylabel('Miles de pasajeros');"
   ]
  },
  {
   "cell_type": "markdown",
   "metadata": {},
   "source": [
    "## b) Una media móvil centrada a 7 meses, y explica si la serie tiene tendencia o no, y si existen ciclos (subidas y caídas) y que se debe cada uno."
   ]
  },
  {
   "cell_type": "code",
   "execution_count": 108,
   "metadata": {},
   "outputs": [
    {
     "data": {
      "text/html": [
       "<div>\n",
       "<style scoped>\n",
       "    .dataframe tbody tr th:only-of-type {\n",
       "        vertical-align: middle;\n",
       "    }\n",
       "\n",
       "    .dataframe tbody tr th {\n",
       "        vertical-align: top;\n",
       "    }\n",
       "\n",
       "    .dataframe thead th {\n",
       "        text-align: right;\n",
       "    }\n",
       "</style>\n",
       "<table border=\"1\" class=\"dataframe\">\n",
       "  <thead>\n",
       "    <tr style=\"text-align: right;\">\n",
       "      <th></th>\n",
       "      <th>miles de pasajeros</th>\n",
       "      <th>ingresos (miles de pesos)</th>\n",
       "      <th>PMS-7</th>\n",
       "    </tr>\n",
       "    <tr>\n",
       "      <th>mes</th>\n",
       "      <th></th>\n",
       "      <th></th>\n",
       "      <th></th>\n",
       "    </tr>\n",
       "  </thead>\n",
       "  <tbody>\n",
       "    <tr>\n",
       "      <th>1995-01-01</th>\n",
       "      <td>3439.000</td>\n",
       "      <td>3240.000</td>\n",
       "      <td>NaN</td>\n",
       "    </tr>\n",
       "    <tr>\n",
       "      <th>1995-02-01</th>\n",
       "      <td>2879.000</td>\n",
       "      <td>3623.000</td>\n",
       "      <td>NaN</td>\n",
       "    </tr>\n",
       "    <tr>\n",
       "      <th>1995-03-01</th>\n",
       "      <td>3103.000</td>\n",
       "      <td>3990.000</td>\n",
       "      <td>NaN</td>\n",
       "    </tr>\n",
       "    <tr>\n",
       "      <th>1995-04-01</th>\n",
       "      <td>3491.000</td>\n",
       "      <td>3321.000</td>\n",
       "      <td>NaN</td>\n",
       "    </tr>\n",
       "    <tr>\n",
       "      <th>1995-05-01</th>\n",
       "      <td>3109.000</td>\n",
       "      <td>3777.000</td>\n",
       "      <td>NaN</td>\n",
       "    </tr>\n",
       "    <tr>\n",
       "      <th>...</th>\n",
       "      <td>...</td>\n",
       "      <td>...</td>\n",
       "      <td>...</td>\n",
       "    </tr>\n",
       "    <tr>\n",
       "      <th>2023-04-01</th>\n",
       "      <td>9523.669</td>\n",
       "      <td>38799.657</td>\n",
       "      <td>11181.227000</td>\n",
       "    </tr>\n",
       "    <tr>\n",
       "      <th>2023-05-01</th>\n",
       "      <td>11891.646</td>\n",
       "      <td>58511.798</td>\n",
       "      <td>10860.629429</td>\n",
       "    </tr>\n",
       "    <tr>\n",
       "      <th>2023-06-01</th>\n",
       "      <td>10657.712</td>\n",
       "      <td>55684.063</td>\n",
       "      <td>10432.054000</td>\n",
       "    </tr>\n",
       "    <tr>\n",
       "      <th>2023-07-01</th>\n",
       "      <td>10894.497</td>\n",
       "      <td>56378.304</td>\n",
       "      <td>10464.836857</td>\n",
       "    </tr>\n",
       "    <tr>\n",
       "      <th>2023-08-01</th>\n",
       "      <td>12201.982</td>\n",
       "      <td>57821.901</td>\n",
       "      <td>10782.866714</td>\n",
       "    </tr>\n",
       "  </tbody>\n",
       "</table>\n",
       "<p>344 rows × 3 columns</p>\n",
       "</div>"
      ],
      "text/plain": [
       "            miles de pasajeros  ingresos (miles de pesos)         PMS-7\n",
       "mes                                                                    \n",
       "1995-01-01            3439.000                   3240.000           NaN\n",
       "1995-02-01            2879.000                   3623.000           NaN\n",
       "1995-03-01            3103.000                   3990.000           NaN\n",
       "1995-04-01            3491.000                   3321.000           NaN\n",
       "1995-05-01            3109.000                   3777.000           NaN\n",
       "...                        ...                        ...           ...\n",
       "2023-04-01            9523.669                  38799.657  11181.227000\n",
       "2023-05-01           11891.646                  58511.798  10860.629429\n",
       "2023-06-01           10657.712                  55684.063  10432.054000\n",
       "2023-07-01           10894.497                  56378.304  10464.836857\n",
       "2023-08-01           12201.982                  57821.901  10782.866714\n",
       "\n",
       "[344 rows x 3 columns]"
      ]
     },
     "execution_count": 108,
     "metadata": {},
     "output_type": "execute_result"
    }
   ],
   "source": [
    "datos['PMS-7']=datos['miles de pasajeros'].rolling(7).mean()\n",
    "datos"
   ]
  },
  {
   "cell_type": "code",
   "execution_count": 109,
   "metadata": {},
   "outputs": [
    {
     "data": {
      "image/png": "[encoded data removed]",
      "text/plain": [
       "<Figure size 640x480 with 1 Axes>"
      ]
     },
     "metadata": {},
     "output_type": "display_data"
    }
   ],
   "source": [
    "datos['PMS-7'].plot()\n",
    "plt.title('PMS-7 de miles de pasajeros')\n",
    "plt.xlabel('Meses')\n",
    "plt.ylabel('Miles de pasajeros');"
   ]
  },
  {
   "cell_type": "markdown",
   "metadata": {},
   "source": [
    "Se puede observar que la serie cuenta con una tendencia creciente y tambien podemos observar que esta compuesta por ciclos(aumentos y disminuciones) los cuales se deben a las diferentes temporadas del año y tambien podemos observar una gran caida alrededor del 2019 y esto es muy posible que se deba a la contingencia causada por el covid 19"
   ]
  },
  {
   "cell_type": "markdown",
   "metadata": {},
   "source": [
    "## 4. El director  de  Metrorrey  planea  hacer  mantenimiento  a  las  estaciones  y  los vagones,  pero  no  sabe  la  fecha  adecuada  para  hacerlo.  Utiliza  el  modelo  ETS para  obtener  el  componente  estacional  de  la  serie  y  señala  el  mes  o  meses adecuados para dar mantenimiento(8.2 puntos)."
   ]
  },
  {
   "cell_type": "code",
   "execution_count": 130,
   "metadata": {},
   "outputs": [],
   "source": [
    "ets = sm.tsa.seasonal_decompose(datos['miles de pasajeros'], model='additive')\n",
    "componente_estacional = ets.seasonal"
   ]
  },
  {
   "cell_type": "code",
   "execution_count": 133,
   "metadata": {},
   "outputs": [
    {
     "data": {
      "text/plain": [
       "mes\n",
       "1995-01-01   -422.310072\n",
       "1995-02-01   -401.322511\n",
       "1995-04-01   -524.477048\n",
       "1995-06-01   -200.241576\n",
       "1995-07-01    -74.189908\n",
       "                 ...    \n",
       "2023-01-01   -422.310072\n",
       "2023-02-01   -401.322511\n",
       "2023-04-01   -524.477048\n",
       "2023-06-01   -200.241576\n",
       "2023-07-01    -74.189908\n",
       "Name: seasonal, Length: 173, dtype: float64"
      ]
     },
     "execution_count": 133,
     "metadata": {},
     "output_type": "execute_result"
    }
   ],
   "source": [
    "meses_aptos = componente_estacional[componente_estacional < 1]\n",
    "meses_aptos"
   ]
  },
  {
   "cell_type": "code",
   "execution_count": 136,
   "metadata": {},
   "outputs": [
    {
     "name": "stdout",
     "output_type": "stream",
     "text": [
      "Los meses con bajo rendimiento son:\n",
      "Int64Index([1, 2, 4, 6, 7, 12], dtype='int64', name='mes')\n"
     ]
    }
   ],
   "source": [
    "print(\"Los meses con bajo rendimiento son:\")\n",
    "print(meses_aptos.index.month.unique())"
   ]
  },
  {
   "cell_type": "markdown",
   "metadata": {},
   "source": [
    "Los meses adecuados para hacer mantenimiento serian enero, febrero, abril, junio, julio y diciembre ya que son aquellos con menor rendimiento estacional"
   ]
  },
  {
   "cell_type": "markdown",
   "metadata": {},
   "source": [
    "## 5. El  director  de  Metrorrey  quiere  saber  los  ingresos  por  pasaje  y  el  número  de pasajeros  los  siguientes  5  meses. Utiliza  el  método  de  Holt-Winters  para pronosticar  el  número  de  pasajeros los  próximos  5  meses,  cada  pronóstico multiplícalo por $7.1 para tener un estimado de los ingresos(8.2 puntos). "
   ]
  },
  {
   "cell_type": "code",
   "execution_count": 110,
   "metadata": {},
   "outputs": [
    {
     "data": {
      "text/html": [
       "<div>\n",
       "<style scoped>\n",
       "    .dataframe tbody tr th:only-of-type {\n",
       "        vertical-align: middle;\n",
       "    }\n",
       "\n",
       "    .dataframe tbody tr th {\n",
       "        vertical-align: top;\n",
       "    }\n",
       "\n",
       "    .dataframe thead th {\n",
       "        text-align: right;\n",
       "    }\n",
       "</style>\n",
       "<table border=\"1\" class=\"dataframe\">\n",
       "  <thead>\n",
       "    <tr style=\"text-align: right;\">\n",
       "      <th></th>\n",
       "      <th>miles de pasajeros</th>\n",
       "      <th>ingresos (miles de pesos)</th>\n",
       "      <th>PMS-7</th>\n",
       "      <th>SE</th>\n",
       "    </tr>\n",
       "    <tr>\n",
       "      <th>mes</th>\n",
       "      <th></th>\n",
       "      <th></th>\n",
       "      <th></th>\n",
       "      <th></th>\n",
       "    </tr>\n",
       "  </thead>\n",
       "  <tbody>\n",
       "    <tr>\n",
       "      <th>1995-01-01</th>\n",
       "      <td>3439.0</td>\n",
       "      <td>3240.0</td>\n",
       "      <td>NaN</td>\n",
       "      <td>3439.000000</td>\n",
       "    </tr>\n",
       "    <tr>\n",
       "      <th>1995-02-01</th>\n",
       "      <td>2879.0</td>\n",
       "      <td>3623.0</td>\n",
       "      <td>NaN</td>\n",
       "      <td>3352.846154</td>\n",
       "    </tr>\n",
       "    <tr>\n",
       "      <th>1995-03-01</th>\n",
       "      <td>3103.0</td>\n",
       "      <td>3990.0</td>\n",
       "      <td>NaN</td>\n",
       "      <td>3314.408284</td>\n",
       "    </tr>\n",
       "    <tr>\n",
       "      <th>1995-04-01</th>\n",
       "      <td>3491.0</td>\n",
       "      <td>3321.0</td>\n",
       "      <td>NaN</td>\n",
       "      <td>3341.576240</td>\n",
       "    </tr>\n",
       "    <tr>\n",
       "      <th>1995-05-01</th>\n",
       "      <td>3109.0</td>\n",
       "      <td>3777.0</td>\n",
       "      <td>NaN</td>\n",
       "      <td>3305.795280</td>\n",
       "    </tr>\n",
       "  </tbody>\n",
       "</table>\n",
       "</div>"
      ],
      "text/plain": [
       "            miles de pasajeros  ingresos (miles de pesos)  PMS-7           SE\n",
       "mes                                                                          \n",
       "1995-01-01              3439.0                     3240.0    NaN  3439.000000\n",
       "1995-02-01              2879.0                     3623.0    NaN  3352.846154\n",
       "1995-03-01              3103.0                     3990.0    NaN  3314.408284\n",
       "1995-04-01              3491.0                     3321.0    NaN  3341.576240\n",
       "1995-05-01              3109.0                     3777.0    NaN  3305.795280"
      ]
     },
     "execution_count": 110,
     "metadata": {},
     "output_type": "execute_result"
    }
   ],
   "source": [
    "datos['SE']=datos['miles de pasajeros'].ewm(span=12,adjust=False).mean()\n",
    "datos.head(5)"
   ]
  },
  {
   "cell_type": "code",
   "execution_count": 111,
   "metadata": {},
   "outputs": [
    {
     "name": "stderr",
     "output_type": "stream",
     "text": [
      "c:\\Users\\HP\\anaconda3\\Lib\\site-packages\\statsmodels\\tsa\\holtwinters\\model.py:917: ConvergenceWarning: Optimization failed to converge. Check mle_retvals.\n",
      "  warnings.warn(\n"
     ]
    }
   ],
   "source": [
    "datos['SED']=ExponentialSmoothing(datos['miles de pasajeros'],trend='add').fit().fittedvalues.shift(-1)"
   ]
  },
  {
   "cell_type": "code",
   "execution_count": 112,
   "metadata": {},
   "outputs": [
    {
     "name": "stderr",
     "output_type": "stream",
     "text": [
      "c:\\Users\\HP\\anaconda3\\Lib\\site-packages\\statsmodels\\tsa\\holtwinters\\model.py:917: ConvergenceWarning: Optimization failed to converge. Check mle_retvals.\n",
      "  warnings.warn(\n"
     ]
    }
   ],
   "source": [
    "holtwinters=ExponentialSmoothing(datos['miles de pasajeros'],trend='add',seasonal='add',seasonal_periods=12).fit()"
   ]
  },
  {
   "cell_type": "code",
   "execution_count": 113,
   "metadata": {},
   "outputs": [
    {
     "data": {
      "text/plain": [
       "2023-09-01    11376.365342\n",
       "2023-10-01    12100.387810\n",
       "2023-11-01    11383.635103\n",
       "2023-12-01    10864.109648\n",
       "2024-01-01    10795.710393\n",
       "Freq: MS, dtype: float64"
      ]
     },
     "execution_count": 113,
     "metadata": {},
     "output_type": "execute_result"
    }
   ],
   "source": [
    "pronostico_pasajeros=holtwinters.forecast(5)\n",
    "pronostico_pasajeros"
   ]
  },
  {
   "cell_type": "code",
   "execution_count": 114,
   "metadata": {},
   "outputs": [
    {
     "data": {
      "text/plain": [
       "2023-09-01    80772.193927\n",
       "2023-10-01    85912.753453\n",
       "2023-11-01    80823.809228\n",
       "2023-12-01    77135.178498\n",
       "2024-01-01    76649.543790\n",
       "Freq: MS, dtype: float64"
      ]
     },
     "execution_count": 114,
     "metadata": {},
     "output_type": "execute_result"
    }
   ],
   "source": [
    "ingresos=pronostico_pasajeros*7.1\n",
    "ingresos"
   ]
  },
  {
   "cell_type": "markdown",
   "metadata": {},
   "source": [
    "## 6. Realiza   un   pronóstico de   los   miles   de   pasajeroscon   el   modelo   ARIMA cumpliendo los siguientes pasos:"
   ]
  },
  {
   "cell_type": "markdown",
   "metadata": {},
   "source": [
    "## a) Realiza una prueba de raíz unitaria a la serie original(8.2 puntos)"
   ]
  },
  {
   "cell_type": "code",
   "execution_count": 115,
   "metadata": {},
   "outputs": [
    {
     "data": {
      "text/plain": [
       "0.58"
      ]
     },
     "execution_count": 115,
     "metadata": {},
     "output_type": "execute_result"
    }
   ],
   "source": [
    "prueba_adf=adfuller(datos['miles de pasajeros'])\n",
    "pvalue=prueba_adf[1]\n",
    "pvalue.round(2)"
   ]
  },
  {
   "cell_type": "markdown",
   "metadata": {},
   "source": [
    "Como el pvalue es de .58 no rechazamos ho lo que significa que miles de pasajeros es una serie no estacionaria"
   ]
  },
  {
   "cell_type": "markdown",
   "metadata": {},
   "source": [
    "## b) En caso de que no sea estacionaria aplica primeras diferencias, y realiza la prueba de raíz unitaria para verificar que la serie sea estacionaria(8.2 puntos)"
   ]
  },
  {
   "cell_type": "code",
   "execution_count": 116,
   "metadata": {},
   "outputs": [
    {
     "data": {
      "text/plain": [
       "0.0"
      ]
     },
     "execution_count": 116,
     "metadata": {},
     "output_type": "execute_result"
    }
   ],
   "source": [
    "## Primeras diferencias\n",
    "datos['1ras_diff']=datos['miles de pasajeros'].diff()\n",
    "## Prueba de raiz unitaria\n",
    "prueba_adf1=adfuller(datos['1ras_diff'].dropna())\n",
    "pvalue1=prueba_adf1[1]\n",
    "pvalue1.round(2)"
   ]
  },
  {
   "cell_type": "markdown",
   "metadata": {},
   "source": [
    "Rechazamos ho, las primeras diferencias de miles de pasajeros son un proceso estacionario"
   ]
  },
  {
   "cell_type": "markdown",
   "metadata": {},
   "source": [
    "## c) Si  la  serie  no  es  estacionaria  repite  el  paso  b  hasta  que  la  serie  sea estacionaria."
   ]
  },
  {
   "cell_type": "markdown",
   "metadata": {},
   "source": [
    "## d) Realiza  las  graficas  de  autocorrelación  de  la  serie  estacionaria  para verificar si la serie tiene o no un componente estacional(8.2 puntos)"
   ]
  },
  {
   "cell_type": "code",
   "execution_count": 117,
   "metadata": {},
   "outputs": [
    {
     "data": {
      "image/png": "[encoded data removed]",
      "text/plain": [
       "<Figure size 1000x400 with 2 Axes>"
      ]
     },
     "metadata": {},
     "output_type": "display_data"
    }
   ],
   "source": [
    "ig,ax=plt.subplots(1,2,figsize=(10,4))\n",
    "plot_acf(datos['1ras_diff'].dropna(),zero=False,lags=30,ax=ax[0])\n",
    "plot_pacf(datos['1ras_diff'].dropna(),zero=False,lags=30,ax=ax[1])\n",
    "plt.show()"
   ]
  },
  {
   "cell_type": "markdown",
   "metadata": {},
   "source": [
    "La grafica de autocorrelacion sugiere que si tiene componente estacional"
   ]
  },
  {
   "cell_type": "markdown",
   "metadata": {},
   "source": [
    "## e) Utiliza auto_arimapara encontrar el orden del modelo arima, dando el parámetro information_criterionprueba y muestra el resultado, con aic, bic, hqic, oob, en caso de que resulten diferente elegir aic si tu matricula termina en par, sino termina en par elegir uno distinto a aic.(8.2 puntos)"
   ]
  },
  {
   "cell_type": "code",
   "execution_count": 118,
   "metadata": {},
   "outputs": [
    {
     "data": {
      "text/plain": [
       "<bound method ARIMA.params of ARIMA(order=(0, 1, 2), scoring_args={}, seasonal_order=(1, 0, 1, 12),\n",
       "      suppress_warnings=True, with_intercept=False)>"
      ]
     },
     "execution_count": 118,
     "metadata": {},
     "output_type": "execute_result"
    }
   ],
   "source": [
    "arimaorder_aic=pm.auto_arima(datos['miles de pasajeros'],start_p=1,max_p=7,start_q=1, max_q=7,information_criterio='aic',seasonal=True,m=12,star_Q=1, max_P=7,start_P=1, max_Q=7)\n",
    "arimaorder_aic.params"
   ]
  },
  {
   "cell_type": "code",
   "execution_count": 119,
   "metadata": {},
   "outputs": [
    {
     "data": {
      "text/plain": [
       "<bound method ARIMA.params of ARIMA(order=(0, 1, 2), scoring_args={}, seasonal_order=(1, 0, 1, 12),\n",
       "      suppress_warnings=True, with_intercept=False)>"
      ]
     },
     "execution_count": 119,
     "metadata": {},
     "output_type": "execute_result"
    }
   ],
   "source": [
    "arimaorder_aic=pm.auto_arima(datos['miles de pasajeros'],start_p=1,max_p=7,start_q=1, max_q=7,information_criterio='bic',seasonal=True,m=12,star_Q=1, max_P=7,start_P=1, max_Q=7)\n",
    "arimaorder_aic.params"
   ]
  },
  {
   "cell_type": "code",
   "execution_count": 120,
   "metadata": {},
   "outputs": [
    {
     "data": {
      "text/plain": [
       "<bound method ARIMA.params of ARIMA(order=(0, 1, 2), scoring_args={}, seasonal_order=(1, 0, 1, 12),\n",
       "      suppress_warnings=True, with_intercept=False)>"
      ]
     },
     "execution_count": 120,
     "metadata": {},
     "output_type": "execute_result"
    }
   ],
   "source": [
    "arimaorder_aic=pm.auto_arima(datos['miles de pasajeros'],start_p=1,max_p=7,start_q=1, max_q=7,information_criterio='hqic',seasonal=True,m=12,star_Q=1, max_P=7,start_P=1, max_Q=7)\n",
    "arimaorder_aic.params"
   ]
  },
  {
   "cell_type": "code",
   "execution_count": 121,
   "metadata": {},
   "outputs": [
    {
     "data": {
      "text/plain": [
       "<bound method ARIMA.params of ARIMA(order=(0, 1, 2), scoring_args={}, seasonal_order=(1, 0, 1, 12),\n",
       "      suppress_warnings=True, with_intercept=False)>"
      ]
     },
     "execution_count": 121,
     "metadata": {},
     "output_type": "execute_result"
    }
   ],
   "source": [
    "arimaorder_aic=pm.auto_arima(datos['miles de pasajeros'],start_p=1,max_p=7,start_q=1, max_q=7,information_criterio='oob',seasonal=True,m=12,star_Q=1, max_P=7,start_P=1, max_Q=7)\n",
    "arimaorder_aic.params"
   ]
  },
  {
   "cell_type": "markdown",
   "metadata": {},
   "source": [
    "## f) Con  el  orden  del  modelo  arima  obtenido  estima  el  modelo  arima(8.2 puntos)"
   ]
  },
  {
   "cell_type": "code",
   "execution_count": 122,
   "metadata": {},
   "outputs": [
    {
     "name": "stdout",
     "output_type": "stream",
     "text": [
      "                                     SARIMAX Results                                      \n",
      "==========================================================================================\n",
      "Dep. Variable:                 miles de pasajeros   No. Observations:                  344\n",
      "Model:             ARIMA(0, 1, 2)x(1, 0, [1], 12)   Log Likelihood               -2774.759\n",
      "Date:                            Sun, 05 Nov 2023   AIC                           5559.518\n",
      "Time:                                    18:44:54   BIC                           5578.706\n",
      "Sample:                                01-01-1995   HQIC                          5567.161\n",
      "                                     - 08-01-2023                                         \n",
      "Covariance Type:                              opg                                         \n",
      "==============================================================================\n",
      "                 coef    std err          z      P>|z|      [0.025      0.975]\n",
      "------------------------------------------------------------------------------\n",
      "ma.L1         -0.0474      0.031     -1.553      0.120      -0.107       0.012\n",
      "ma.L2         -0.1823      0.037     -4.909      0.000      -0.255      -0.110\n",
      "ar.S.L12       0.9738      0.022     45.200      0.000       0.932       1.016\n",
      "ma.S.L12      -0.8388      0.051    -16.346      0.000      -0.939      -0.738\n",
      "sigma2      6.036e+05   2.54e+04     23.731      0.000    5.54e+05    6.53e+05\n",
      "===================================================================================\n",
      "Ljung-Box (L1) (Q):                   0.00   Jarque-Bera (JB):              4713.87\n",
      "Prob(Q):                              0.97   Prob(JB):                         0.00\n",
      "Heteroskedasticity (H):               8.41   Skew:                            -1.69\n",
      "Prob(H) (two-sided):                  0.00   Kurtosis:                        20.84\n",
      "===================================================================================\n",
      "\n",
      "Warnings:\n",
      "[1] Covariance matrix calculated using the outer product of gradients (complex-step).\n"
     ]
    }
   ],
   "source": [
    "model=ARIMA(datos['miles de pasajeros'],order=(0,1,2),seasonal_order=(1,0,1,12))\n",
    "results=model.fit()\n",
    "print(results.summary())"
   ]
  },
  {
   "cell_type": "markdown",
   "metadata": {},
   "source": [
    "## g) Realiza la gráfica del pronóstico a 5 meses con los intervalos de confianza y la serie original desde 2021(8.2 puntos)"
   ]
  },
  {
   "cell_type": "code",
   "execution_count": 123,
   "metadata": {},
   "outputs": [
    {
     "data": {
      "image/png": "[encoded data removed]",
      "text/plain": [
       "<Figure size 640x480 with 1 Axes>"
      ]
     },
     "metadata": {},
     "output_type": "display_data"
    }
   ],
   "source": [
    "plot_predict(results,'2023-09-01','2024-01-01')\n",
    "datos['miles de pasajeros'].plot()\n",
    "plt.title('Pronostico de la serie')\n",
    "plt.xlabel('Meses')\n",
    "plt.ylabel('Miles de pasajeros')\n",
    "plt.xlim('2010-01-01', pronostico_pasajeros.index[-1]);"
   ]
  },
  {
   "cell_type": "markdown",
   "metadata": {},
   "source": [
    "## h) Realiza  el  pronostico  a  5  meses  con  los  intervalos  de  confianza(8.2 puntos)"
   ]
  },
  {
   "cell_type": "code",
   "execution_count": 124,
   "metadata": {},
   "outputs": [],
   "source": [
    "forecast=results.get_forecast(steps=5)\n",
    "forecast_mean=forecast.predicted_mean\n",
    "forecast_ci=forecast.conf_int()"
   ]
  },
  {
   "cell_type": "code",
   "execution_count": 125,
   "metadata": {},
   "outputs": [],
   "source": [
    "inicio='2023-08-01'\n",
    "fin='2024-01-01'"
   ]
  },
  {
   "cell_type": "code",
   "execution_count": 126,
   "metadata": {},
   "outputs": [
    {
     "data": {
      "text/html": [
       "<div>\n",
       "<style scoped>\n",
       "    .dataframe tbody tr th:only-of-type {\n",
       "        vertical-align: middle;\n",
       "    }\n",
       "\n",
       "    .dataframe tbody tr th {\n",
       "        vertical-align: top;\n",
       "    }\n",
       "\n",
       "    .dataframe thead th {\n",
       "        text-align: right;\n",
       "    }\n",
       "</style>\n",
       "<table border=\"1\" class=\"dataframe\">\n",
       "  <thead>\n",
       "    <tr style=\"text-align: right;\">\n",
       "      <th></th>\n",
       "      <th>pronostico</th>\n",
       "      <th>limite inf</th>\n",
       "      <th>limite_sup</th>\n",
       "    </tr>\n",
       "  </thead>\n",
       "  <tbody>\n",
       "    <tr>\n",
       "      <th>2023-09-01</th>\n",
       "      <td>11750.063702</td>\n",
       "      <td>10227.332284</td>\n",
       "      <td>13272.795120</td>\n",
       "    </tr>\n",
       "    <tr>\n",
       "      <th>2023-10-01</th>\n",
       "      <td>12529.086413</td>\n",
       "      <td>10426.060174</td>\n",
       "      <td>14632.112653</td>\n",
       "    </tr>\n",
       "    <tr>\n",
       "      <th>2023-11-01</th>\n",
       "      <td>12113.624399</td>\n",
       "      <td>9705.640952</td>\n",
       "      <td>14521.607847</td>\n",
       "    </tr>\n",
       "    <tr>\n",
       "      <th>2023-12-01</th>\n",
       "      <td>11465.163129</td>\n",
       "      <td>8786.721596</td>\n",
       "      <td>14143.604662</td>\n",
       "    </tr>\n",
       "    <tr>\n",
       "      <th>2024-01-01</th>\n",
       "      <td>10951.883092</td>\n",
       "      <td>8027.893943</td>\n",
       "      <td>13875.872240</td>\n",
       "    </tr>\n",
       "  </tbody>\n",
       "</table>\n",
       "</div>"
      ],
      "text/plain": [
       "              pronostico    limite inf    limite_sup\n",
       "2023-09-01  11750.063702  10227.332284  13272.795120\n",
       "2023-10-01  12529.086413  10426.060174  14632.112653\n",
       "2023-11-01  12113.624399   9705.640952  14521.607847\n",
       "2023-12-01  11465.163129   8786.721596  14143.604662\n",
       "2024-01-01  10951.883092   8027.893943  13875.872240"
      ]
     },
     "execution_count": 126,
     "metadata": {},
     "output_type": "execute_result"
    }
   ],
   "source": [
    "pronostico_valor=forecast_mean[inicio:fin]\n",
    "pronostico_intervalos=forecast_ci.loc[inicio:fin]\n",
    "df_pronostico=pd.DataFrame({'pronostico':pronostico_valor,\n",
    "                            'limite inf':pronostico_intervalos.iloc[:,0],\n",
    "                            'limite_sup':pronostico_intervalos.iloc[:,1]\n",
    "})\n",
    "df_pronostico"
   ]
  },
  {
   "cell_type": "markdown",
   "metadata": {},
   "source": [
    "## i) Calcula los ingresos y el intervalo de los ingreso multiplicando por $7.1(8.2 puntos)"
   ]
  },
  {
   "cell_type": "code",
   "execution_count": 127,
   "metadata": {},
   "outputs": [
    {
     "data": {
      "text/html": [
       "<div>\n",
       "<style scoped>\n",
       "    .dataframe tbody tr th:only-of-type {\n",
       "        vertical-align: middle;\n",
       "    }\n",
       "\n",
       "    .dataframe tbody tr th {\n",
       "        vertical-align: top;\n",
       "    }\n",
       "\n",
       "    .dataframe thead th {\n",
       "        text-align: right;\n",
       "    }\n",
       "</style>\n",
       "<table border=\"1\" class=\"dataframe\">\n",
       "  <thead>\n",
       "    <tr style=\"text-align: right;\">\n",
       "      <th></th>\n",
       "      <th>pronostico</th>\n",
       "      <th>limite inf</th>\n",
       "      <th>limite_sup</th>\n",
       "    </tr>\n",
       "  </thead>\n",
       "  <tbody>\n",
       "    <tr>\n",
       "      <th>2023-09-01</th>\n",
       "      <td>83425.452283</td>\n",
       "      <td>72614.059214</td>\n",
       "      <td>94236.845351</td>\n",
       "    </tr>\n",
       "    <tr>\n",
       "      <th>2023-10-01</th>\n",
       "      <td>88956.513534</td>\n",
       "      <td>74025.027234</td>\n",
       "      <td>103887.999834</td>\n",
       "    </tr>\n",
       "    <tr>\n",
       "      <th>2023-11-01</th>\n",
       "      <td>86006.733235</td>\n",
       "      <td>68910.050756</td>\n",
       "      <td>103103.415714</td>\n",
       "    </tr>\n",
       "    <tr>\n",
       "      <th>2023-12-01</th>\n",
       "      <td>81402.658216</td>\n",
       "      <td>62385.723333</td>\n",
       "      <td>100419.593099</td>\n",
       "    </tr>\n",
       "    <tr>\n",
       "      <th>2024-01-01</th>\n",
       "      <td>77758.369952</td>\n",
       "      <td>56998.046997</td>\n",
       "      <td>98518.692907</td>\n",
       "    </tr>\n",
       "  </tbody>\n",
       "</table>\n",
       "</div>"
      ],
      "text/plain": [
       "              pronostico    limite inf     limite_sup\n",
       "2023-09-01  83425.452283  72614.059214   94236.845351\n",
       "2023-10-01  88956.513534  74025.027234  103887.999834\n",
       "2023-11-01  86006.733235  68910.050756  103103.415714\n",
       "2023-12-01  81402.658216  62385.723333  100419.593099\n",
       "2024-01-01  77758.369952  56998.046997   98518.692907"
      ]
     },
     "execution_count": 127,
     "metadata": {},
     "output_type": "execute_result"
    }
   ],
   "source": [
    "ingresos1=df_pronostico*7.1\n",
    "ingresos1"
   ]
  },
  {
   "cell_type": "code",
   "execution_count": 128,
   "metadata": {},
   "outputs": [
    {
     "name": "stdout",
     "output_type": "stream",
     "text": [
      "pronosticamos que los ingresos estaran en 77758.37\n",
      " pero podrian estar entre 56998.05 y 98518.69\n"
     ]
    }
   ],
   "source": [
    "print(f'pronosticamos que los ingresos estaran en {ingresos1.iloc[4,0].round(2)}\\n pero podrian estar entre {ingresos1.iloc[4,1].round(2)} y {ingresos1.iloc[4,2].round(2)}') "
   ]
  }
 ],
 "metadata": {
  "kernelspec": {
   "display_name": "base",
   "language": "python",
   "name": "python3"
  },
  "language_info": {
   "codemirror_mode": {
    "name": "ipython",
    "version": 3
   },
   "file_extension": ".py",
   "mimetype": "text/x-python",
   "name": "python",
   "nbconvert_exporter": "python",
   "pygments_lexer": "ipython3",
   "version": "3.11.4"
  }
 },
 "nbformat": 4,
 "nbformat_minor": 2
}
