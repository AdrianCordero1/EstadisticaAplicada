{
 "cells": [
  {
   "cell_type": "markdown",
   "metadata": {},
   "source": [
    "# Estadistica Aplicada\n",
    "Sesion 2. 9 agosto\n",
    "\n",
    "Jesus Adrian Cordero Hernandez 1952778"
   ]
  },
  {
   "cell_type": "markdown",
   "metadata": {},
   "source": [
    "Lista en python es una coleccion de objetos que pueden ser de distinto tipo"
   ]
  },
  {
   "cell_type": "markdown",
   "metadata": {},
   "source": [
    "nombrelista = [objeto1, objeto2, objeto3, etc.]"
   ]
  },
  {
   "cell_type": "code",
   "execution_count": 1,
   "metadata": {},
   "outputs": [],
   "source": [
    "alumno1 = ['Juan', 'Perez', 19]"
   ]
  },
  {
   "cell_type": "code",
   "execution_count": 2,
   "metadata": {},
   "outputs": [
    {
     "data": {
      "text/plain": [
       "list"
      ]
     },
     "execution_count": 2,
     "metadata": {},
     "output_type": "execute_result"
    }
   ],
   "source": [
    "type(alumno1)"
   ]
  },
  {
   "cell_type": "code",
   "execution_count": 3,
   "metadata": {},
   "outputs": [
    {
     "data": {
      "text/plain": [
       "['Juan', 'Perez', 19]"
      ]
     },
     "execution_count": 3,
     "metadata": {},
     "output_type": "execute_result"
    }
   ],
   "source": [
    "alumno1"
   ]
  },
  {
   "cell_type": "code",
   "execution_count": 4,
   "metadata": {},
   "outputs": [],
   "source": [
    "#crear una lista con los alumnos del grupo\n",
    "estadistica_g4 = ['Juan', 'Raul', 'Jimena', 'Alejandra']"
   ]
  },
  {
   "cell_type": "code",
   "execution_count": 5,
   "metadata": {},
   "outputs": [
    {
     "data": {
      "text/plain": [
       "['Juan', 'Raul', 'Jimena', 'Alejandra']"
      ]
     },
     "execution_count": 5,
     "metadata": {},
     "output_type": "execute_result"
    }
   ],
   "source": [
    "estadistica_g4"
   ]
  },
  {
   "cell_type": "code",
   "execution_count": 6,
   "metadata": {},
   "outputs": [
    {
     "data": {
      "text/plain": [
       "'Alejandra'"
      ]
     },
     "execution_count": 6,
     "metadata": {},
     "output_type": "execute_result"
    }
   ],
   "source": [
    "estadistica_g4[3]"
   ]
  },
  {
   "cell_type": "code",
   "execution_count": 7,
   "metadata": {},
   "outputs": [
    {
     "data": {
      "text/plain": [
       "'Juan'"
      ]
     },
     "execution_count": 7,
     "metadata": {},
     "output_type": "execute_result"
    }
   ],
   "source": [
    "estadistica_g4[0]"
   ]
  },
  {
   "cell_type": "code",
   "execution_count": 13,
   "metadata": {},
   "outputs": [
    {
     "data": {
      "text/plain": [
       "('Juan', 'Alejandra')"
      ]
     },
     "execution_count": 13,
     "metadata": {},
     "output_type": "execute_result"
    }
   ],
   "source": [
    "estadistica_g4[0], estadistica_g4[3]"
   ]
  },
  {
   "cell_type": "code",
   "execution_count": 17,
   "metadata": {},
   "outputs": [
    {
     "data": {
      "text/plain": [
       "['Juan', 'Raul', 'Jimena']"
      ]
     },
     "execution_count": 17,
     "metadata": {},
     "output_type": "execute_result"
    }
   ],
   "source": [
    "estadistica_g4[0:3]"
   ]
  },
  {
   "cell_type": "code",
   "execution_count": 20,
   "metadata": {},
   "outputs": [
    {
     "data": {
      "text/plain": [
       "'Alejandra'"
      ]
     },
     "execution_count": 20,
     "metadata": {},
     "output_type": "execute_result"
    }
   ],
   "source": [
    "estadistica_g4[-1]"
   ]
  },
  {
   "cell_type": "code",
   "execution_count": 21,
   "metadata": {},
   "outputs": [],
   "source": [
    "estadistica_g4.remove('Jimena')"
   ]
  },
  {
   "cell_type": "code",
   "execution_count": 22,
   "metadata": {},
   "outputs": [
    {
     "data": {
      "text/plain": [
       "['Juan', 'Raul', 'Alejandra']"
      ]
     },
     "execution_count": 22,
     "metadata": {},
     "output_type": "execute_result"
    }
   ],
   "source": [
    "estadistica_g4"
   ]
  },
  {
   "cell_type": "code",
   "execution_count": 23,
   "metadata": {},
   "outputs": [],
   "source": [
    "estadistica_g4.append('Alex')"
   ]
  },
  {
   "cell_type": "code",
   "execution_count": 24,
   "metadata": {},
   "outputs": [
    {
     "data": {
      "text/plain": [
       "['Juan', 'Raul', 'Alejandra', 'Alex']"
      ]
     },
     "execution_count": 24,
     "metadata": {},
     "output_type": "execute_result"
    }
   ],
   "source": [
    "estadistica_g4"
   ]
  },
  {
   "cell_type": "code",
   "execution_count": 25,
   "metadata": {},
   "outputs": [],
   "source": [
    "amigos_bff = ['Cuqui', 'Alexa', 'Queso', 'Amaro']"
   ]
  },
  {
   "cell_type": "code",
   "execution_count": 26,
   "metadata": {},
   "outputs": [],
   "source": [
    "yo = amigos_bff[3]"
   ]
  },
  {
   "cell_type": "code",
   "execution_count": 27,
   "metadata": {},
   "outputs": [
    {
     "data": {
      "text/plain": [
       "'Amaro'"
      ]
     },
     "execution_count": 27,
     "metadata": {},
     "output_type": "execute_result"
    }
   ],
   "source": [
    "yo"
   ]
  },
  {
   "cell_type": "code",
   "execution_count": 28,
   "metadata": {},
   "outputs": [],
   "source": [
    "yo_enFCFM = ['Alex', 'LA', 7, 85]"
   ]
  },
  {
   "cell_type": "code",
   "execution_count": 29,
   "metadata": {},
   "outputs": [],
   "source": [
    "mi_promedio = yo_enFCFM[3]\n",
    "mi_carrera = yo_enFCFM[1]"
   ]
  },
  {
   "cell_type": "code",
   "execution_count": 30,
   "metadata": {},
   "outputs": [
    {
     "data": {
      "text/plain": [
       "(85, 'LA')"
      ]
     },
     "execution_count": 30,
     "metadata": {},
     "output_type": "execute_result"
    }
   ],
   "source": [
    "mi_promedio, mi_carrera"
   ]
  },
  {
   "cell_type": "code",
   "execution_count": null,
   "metadata": {},
   "outputs": [],
   "source": []
  },
  {
   "cell_type": "markdown",
   "metadata": {},
   "source": [
    "1. Instalar la libreria (una sola vez)\n",
    "2. Decirle a python que use la libreria"
   ]
  },
  {
   "cell_type": "markdown",
   "metadata": {},
   "source": [
    "instalar una libreria llamada yahoofinance"
   ]
  },
  {
   "cell_type": "code",
   "execution_count": 31,
   "metadata": {},
   "outputs": [
    {
     "name": "stdout",
     "output_type": "stream",
     "text": [
      "Collecting yfinance\n",
      "  Downloading yfinance-0.2.27-py2.py3-none-any.whl (63 kB)\n",
      "                                              0.0/63.2 kB ? eta -:--:--\n",
      "     -------------------                      30.7/63.2 kB ? eta -:--:--\n",
      "     --------------------------------------   61.4/63.2 kB 1.1 MB/s eta 0:00:01\n",
      "     -------------------------------------- 63.2/63.2 kB 569.2 kB/s eta 0:00:00\n",
      "Collecting pandas>=1.3.0 (from yfinance)\n",
      "  Downloading pandas-2.0.3-cp311-cp311-win_amd64.whl (10.6 MB)\n",
      "                                              0.0/10.6 MB ? eta -:--:--\n",
      "                                              0.1/10.6 MB 3.3 MB/s eta 0:00:04\n",
      "     -                                        0.3/10.6 MB 3.4 MB/s eta 0:00:04\n",
      "     -                                        0.5/10.6 MB 3.3 MB/s eta 0:00:04\n",
      "     --                                       0.7/10.6 MB 3.6 MB/s eta 0:00:03\n",
      "     ---                                      0.9/10.6 MB 3.7 MB/s eta 0:00:03\n",
      "     ----                                     1.1/10.6 MB 3.8 MB/s eta 0:00:03\n",
      "     ----                                     1.3/10.6 MB 4.2 MB/s eta 0:00:03\n",
      "     -----                                    1.6/10.6 MB 4.4 MB/s eta 0:00:03\n",
      "     ------                                   1.8/10.6 MB 4.4 MB/s eta 0:00:02\n",
      "     --------                                 2.4/10.6 MB 5.0 MB/s eta 0:00:02\n",
      "     -----------                              2.9/10.6 MB 5.7 MB/s eta 0:00:02\n",
      "     -------------                            3.5/10.6 MB 6.2 MB/s eta 0:00:02\n",
      "     --------------                           4.0/10.6 MB 6.5 MB/s eta 0:00:02\n",
      "     -----------------                        4.5/10.6 MB 6.9 MB/s eta 0:00:01\n",
      "     ------------------                       5.0/10.6 MB 7.3 MB/s eta 0:00:01\n",
      "     ---------------------                    5.6/10.6 MB 7.4 MB/s eta 0:00:01\n",
      "     -----------------------                  6.1/10.6 MB 7.8 MB/s eta 0:00:01\n",
      "     ------------------------                 6.6/10.6 MB 7.9 MB/s eta 0:00:01\n",
      "     --------------------------               7.1/10.6 MB 8.1 MB/s eta 0:00:01\n",
      "     ----------------------------             7.6/10.6 MB 8.1 MB/s eta 0:00:01\n",
      "     ------------------------------           8.2/10.6 MB 8.3 MB/s eta 0:00:01\n",
      "     --------------------------------         8.7/10.6 MB 8.4 MB/s eta 0:00:01\n",
      "     ----------------------------------       9.1/10.6 MB 8.6 MB/s eta 0:00:01\n",
      "     ------------------------------------     9.6/10.6 MB 8.7 MB/s eta 0:00:01\n",
      "     -------------------------------------    10.1/10.6 MB 8.7 MB/s eta 0:00:01\n",
      "     ---------------------------------------  10.6/10.6 MB 9.4 MB/s eta 0:00:01\n",
      "     ---------------------------------------  10.6/10.6 MB 9.4 MB/s eta 0:00:01\n",
      "     ---------------------------------------  10.6/10.6 MB 9.4 MB/s eta 0:00:01\n",
      "     ---------------------------------------  10.6/10.6 MB 9.4 MB/s eta 0:00:01\n",
      "     ---------------------------------------- 10.6/10.6 MB 7.9 MB/s eta 0:00:00\n",
      "Collecting numpy>=1.16.5 (from yfinance)\n",
      "  Downloading numpy-1.25.2-cp311-cp311-win_amd64.whl (15.5 MB)\n",
      "                                              0.0/15.5 MB ? eta -:--:--\n",
      "                                              0.0/15.5 MB ? eta -:--:--\n",
      "                                              0.1/15.5 MB 4.3 MB/s eta 0:00:04\n",
      "                                              0.2/15.5 MB 2.9 MB/s eta 0:00:06\n",
      "                                              0.3/15.5 MB 2.5 MB/s eta 0:00:06\n",
      "     -                                        0.5/15.5 MB 2.6 MB/s eta 0:00:06\n",
      "     -                                        0.6/15.5 MB 2.5 MB/s eta 0:00:06\n",
      "     -                                        0.7/15.5 MB 2.6 MB/s eta 0:00:06\n",
      "     --                                       0.8/15.5 MB 2.6 MB/s eta 0:00:06\n",
      "     --                                       1.0/15.5 MB 2.8 MB/s eta 0:00:06\n",
      "     ---                                      1.2/15.5 MB 2.9 MB/s eta 0:00:05\n",
      "     ---                                      1.3/15.5 MB 2.9 MB/s eta 0:00:05\n",
      "     ---                                      1.5/15.5 MB 3.0 MB/s eta 0:00:05\n",
      "     ----                                     1.7/15.5 MB 3.1 MB/s eta 0:00:05\n",
      "     ----                                     1.9/15.5 MB 3.2 MB/s eta 0:00:05\n",
      "     -----                                    2.2/15.5 MB 3.4 MB/s eta 0:00:04\n",
      "     ------                                   2.4/15.5 MB 3.5 MB/s eta 0:00:04\n",
      "     ------                                   2.7/15.5 MB 3.7 MB/s eta 0:00:04\n",
      "     -------                                  3.0/15.5 MB 3.8 MB/s eta 0:00:04\n",
      "     --------                                 3.2/15.5 MB 3.9 MB/s eta 0:00:04\n",
      "     --------                                 3.5/15.5 MB 4.0 MB/s eta 0:00:04\n",
      "     ---------                                3.7/15.5 MB 4.0 MB/s eta 0:00:03\n",
      "     ----------                               4.1/15.5 MB 4.2 MB/s eta 0:00:03\n",
      "     -----------                              4.4/15.5 MB 4.3 MB/s eta 0:00:03\n",
      "     ------------                             4.7/15.5 MB 4.4 MB/s eta 0:00:03\n",
      "     ------------                             5.0/15.5 MB 4.5 MB/s eta 0:00:03\n",
      "     -------------                            5.3/15.5 MB 4.6 MB/s eta 0:00:03\n",
      "     --------------                           5.6/15.5 MB 4.6 MB/s eta 0:00:03\n",
      "     --------------                           5.8/15.5 MB 4.6 MB/s eta 0:00:03\n",
      "     ---------------                          6.1/15.5 MB 4.7 MB/s eta 0:00:03\n",
      "     ----------------                         6.3/15.5 MB 4.7 MB/s eta 0:00:02\n",
      "     ----------------                         6.6/15.5 MB 4.8 MB/s eta 0:00:02\n",
      "     -----------------                        6.8/15.5 MB 4.7 MB/s eta 0:00:02\n",
      "     ------------------                       7.1/15.5 MB 4.8 MB/s eta 0:00:02\n",
      "     ------------------                       7.3/15.5 MB 4.8 MB/s eta 0:00:02\n",
      "     -------------------                      7.6/15.5 MB 4.8 MB/s eta 0:00:02\n",
      "     --------------------                     7.8/15.5 MB 4.8 MB/s eta 0:00:02\n",
      "     --------------------                     8.0/15.5 MB 4.8 MB/s eta 0:00:02\n",
      "     ---------------------                    8.2/15.5 MB 4.8 MB/s eta 0:00:02\n",
      "     ---------------------                    8.5/15.5 MB 4.8 MB/s eta 0:00:02\n",
      "     -----------------------                  9.0/15.5 MB 5.0 MB/s eta 0:00:02\n",
      "     ------------------------                 9.5/15.5 MB 5.1 MB/s eta 0:00:02\n",
      "     -------------------------                10.1/15.5 MB 5.3 MB/s eta 0:00:02\n",
      "     ---------------------------              10.6/15.5 MB 5.6 MB/s eta 0:00:01\n",
      "     ----------------------------             11.1/15.5 MB 6.1 MB/s eta 0:00:01\n",
      "     -----------------------------            11.4/15.5 MB 6.2 MB/s eta 0:00:01\n",
      "     ------------------------------           11.9/15.5 MB 6.6 MB/s eta 0:00:01\n",
      "     --------------------------------         12.5/15.5 MB 6.9 MB/s eta 0:00:01\n",
      "     ---------------------------------        13.0/15.5 MB 7.1 MB/s eta 0:00:01\n",
      "     ----------------------------------       13.5/15.5 MB 7.4 MB/s eta 0:00:01\n",
      "     ------------------------------------     14.0/15.5 MB 7.5 MB/s eta 0:00:01\n",
      "     -------------------------------------    14.6/15.5 MB 7.8 MB/s eta 0:00:01\n",
      "     --------------------------------------   14.8/15.5 MB 7.8 MB/s eta 0:00:01\n",
      "     --------------------------------------   15.1/15.5 MB 7.7 MB/s eta 0:00:01\n",
      "     ---------------------------------------  15.4/15.5 MB 7.7 MB/s eta 0:00:01\n",
      "     ---------------------------------------  15.5/15.5 MB 7.7 MB/s eta 0:00:01\n",
      "     ---------------------------------------  15.5/15.5 MB 7.7 MB/s eta 0:00:01\n",
      "     ---------------------------------------  15.5/15.5 MB 7.7 MB/s eta 0:00:01\n",
      "     ---------------------------------------  15.5/15.5 MB 7.7 MB/s eta 0:00:01\n",
      "     ---------------------------------------  15.5/15.5 MB 7.7 MB/s eta 0:00:01\n",
      "     ---------------------------------------  15.5/15.5 MB 7.7 MB/s eta 0:00:01\n",
      "     ---------------------------------------  15.5/15.5 MB 7.7 MB/s eta 0:00:01\n",
      "     ---------------------------------------  15.5/15.5 MB 7.7 MB/s eta 0:00:01\n",
      "     ---------------------------------------  15.5/15.5 MB 7.7 MB/s eta 0:00:01\n",
      "     ---------------------------------------  15.5/15.5 MB 7.7 MB/s eta 0:00:01\n",
      "     ---------------------------------------  15.5/15.5 MB 7.7 MB/s eta 0:00:01\n",
      "     ---------------------------------------  15.5/15.5 MB 7.7 MB/s eta 0:00:01\n",
      "     ---------------------------------------  15.5/15.5 MB 7.7 MB/s eta 0:00:01\n",
      "     ---------------------------------------  15.5/15.5 MB 7.7 MB/s eta 0:00:01\n",
      "     ---------------------------------------  15.5/15.5 MB 7.7 MB/s eta 0:00:01\n",
      "     ---------------------------------------  15.5/15.5 MB 7.7 MB/s eta 0:00:01\n",
      "     ---------------------------------------  15.5/15.5 MB 7.7 MB/s eta 0:00:01\n",
      "     ---------------------------------------  15.5/15.5 MB 7.7 MB/s eta 0:00:01\n",
      "     ---------------------------------------  15.5/15.5 MB 7.7 MB/s eta 0:00:01\n",
      "     ---------------------------------------  15.5/15.5 MB 7.7 MB/s eta 0:00:01\n",
      "     ---------------------------------------  15.5/15.5 MB 7.7 MB/s eta 0:00:01\n",
      "     ---------------------------------------  15.5/15.5 MB 7.7 MB/s eta 0:00:01\n",
      "     ---------------------------------------  15.5/15.5 MB 7.7 MB/s eta 0:00:01\n",
      "     ---------------------------------------  15.5/15.5 MB 7.7 MB/s eta 0:00:01\n",
      "     ---------------------------------------- 15.5/15.5 MB 4.2 MB/s eta 0:00:00\n",
      "Collecting requests>=2.31 (from yfinance)\n",
      "  Downloading requests-2.31.0-py3-none-any.whl (62 kB)\n",
      "                                              0.0/62.6 kB ? eta -:--:--\n",
      "     ---------------------------------------- 62.6/62.6 kB 1.7 MB/s eta 0:00:00\n",
      "Collecting multitasking>=0.0.7 (from yfinance)\n",
      "  Downloading multitasking-0.0.11-py3-none-any.whl (8.5 kB)\n",
      "Collecting lxml>=4.9.1 (from yfinance)\n",
      "  Downloading lxml-4.9.3-cp311-cp311-win_amd64.whl (3.8 MB)\n",
      "                                              0.0/3.8 MB ? eta -:--:--\n",
      "     --                                       0.2/3.8 MB 4.1 MB/s eta 0:00:01\n",
      "     ------                                   0.6/3.8 MB 6.3 MB/s eta 0:00:01\n",
      "     ----------                               1.0/3.8 MB 6.8 MB/s eta 0:00:01\n",
      "     --------------                           1.3/3.8 MB 7.1 MB/s eta 0:00:01\n",
      "     -----------------                        1.7/3.8 MB 7.1 MB/s eta 0:00:01\n",
      "     --------------------                     1.9/3.8 MB 7.1 MB/s eta 0:00:01\n",
      "     --------------------                     1.9/3.8 MB 7.1 MB/s eta 0:00:01\n",
      "     --------------------                     1.9/3.8 MB 7.1 MB/s eta 0:00:01\n",
      "     --------------------                     1.9/3.8 MB 7.1 MB/s eta 0:00:01\n",
      "     --------------------                     1.9/3.8 MB 7.1 MB/s eta 0:00:01\n",
      "     --------------------                     2.0/3.8 MB 3.9 MB/s eta 0:00:01\n",
      "     ----------------------                   2.1/3.8 MB 3.8 MB/s eta 0:00:01\n",
      "     -----------------------                  2.2/3.8 MB 3.7 MB/s eta 0:00:01\n",
      "     ------------------------                 2.4/3.8 MB 3.7 MB/s eta 0:00:01\n",
      "     --------------------------               2.5/3.8 MB 3.6 MB/s eta 0:00:01\n",
      "     ----------------------------             2.7/3.8 MB 3.6 MB/s eta 0:00:01\n",
      "     -----------------------------            2.8/3.8 MB 3.6 MB/s eta 0:00:01\n",
      "     -------------------------------          3.0/3.8 MB 3.6 MB/s eta 0:00:01\n",
      "     ---------------------------------        3.2/3.8 MB 3.6 MB/s eta 0:00:01\n",
      "     -----------------------------------      3.4/3.8 MB 3.7 MB/s eta 0:00:01\n",
      "     ---------------------------------------  3.7/3.8 MB 3.8 MB/s eta 0:00:01\n",
      "     ---------------------------------------  3.8/3.8 MB 3.8 MB/s eta 0:00:01\n",
      "     ---------------------------------------  3.8/3.8 MB 3.8 MB/s eta 0:00:01\n",
      "     ---------------------------------------- 3.8/3.8 MB 3.5 MB/s eta 0:00:00\n",
      "Collecting appdirs>=1.4.4 (from yfinance)\n",
      "  Downloading appdirs-1.4.4-py2.py3-none-any.whl (9.6 kB)\n",
      "Collecting pytz>=2022.5 (from yfinance)\n",
      "  Downloading pytz-2023.3-py2.py3-none-any.whl (502 kB)\n",
      "                                              0.0/502.3 kB ? eta -:--:--\n",
      "     --------------------                   276.5/502.3 kB 8.6 MB/s eta 0:00:01\n",
      "     -------------------------------------  501.8/502.3 kB 6.3 MB/s eta 0:00:01\n",
      "     -------------------------------------- 502.3/502.3 kB 4.5 MB/s eta 0:00:00\n",
      "Collecting frozendict>=2.3.4 (from yfinance)\n",
      "  Downloading frozendict-2.3.8-py311-none-any.whl (14 kB)\n",
      "Collecting beautifulsoup4>=4.11.1 (from yfinance)\n",
      "  Downloading beautifulsoup4-4.12.2-py3-none-any.whl (142 kB)\n",
      "                                              0.0/143.0 kB ? eta -:--:--\n",
      "     -------------------------------------- 143.0/143.0 kB 4.3 MB/s eta 0:00:00\n",
      "Collecting html5lib>=1.1 (from yfinance)\n",
      "  Downloading html5lib-1.1-py2.py3-none-any.whl (112 kB)\n",
      "                                              0.0/112.2 kB ? eta -:--:--\n",
      "     ----------------------------------     102.4/112.2 kB 5.8 MB/s eta 0:00:01\n",
      "     -------------------------------------- 112.2/112.2 kB 2.2 MB/s eta 0:00:00\n",
      "Collecting soupsieve>1.2 (from beautifulsoup4>=4.11.1->yfinance)\n",
      "  Downloading soupsieve-2.4.1-py3-none-any.whl (36 kB)\n",
      "Requirement already satisfied: six>=1.9 in c:\\users\\dell\\appdata\\roaming\\python\\python311\\site-packages (from html5lib>=1.1->yfinance) (1.16.0)\n",
      "Collecting webencodings (from html5lib>=1.1->yfinance)\n",
      "  Downloading webencodings-0.5.1-py2.py3-none-any.whl (11 kB)\n",
      "Requirement already satisfied: python-dateutil>=2.8.2 in c:\\users\\dell\\appdata\\roaming\\python\\python311\\site-packages (from pandas>=1.3.0->yfinance) (2.8.2)\n",
      "Collecting tzdata>=2022.1 (from pandas>=1.3.0->yfinance)\n",
      "  Downloading tzdata-2023.3-py2.py3-none-any.whl (341 kB)\n",
      "                                              0.0/341.8 kB ? eta -:--:--\n",
      "     ------------------------------------  337.9/341.8 kB 10.2 MB/s eta 0:00:01\n",
      "     ------------------------------------  337.9/341.8 kB 10.2 MB/s eta 0:00:01\n",
      "     -------------------------------------- 341.8/341.8 kB 2.7 MB/s eta 0:00:00\n",
      "Collecting charset-normalizer<4,>=2 (from requests>=2.31->yfinance)\n",
      "  Downloading charset_normalizer-3.2.0-cp311-cp311-win_amd64.whl (96 kB)\n",
      "                                              0.0/96.6 kB ? eta -:--:--\n",
      "     --------------------------------------   92.2/96.6 kB 5.5 MB/s eta 0:00:01\n",
      "     ---------------------------------------- 96.6/96.6 kB 1.4 MB/s eta 0:00:00\n",
      "Collecting idna<4,>=2.5 (from requests>=2.31->yfinance)\n",
      "  Downloading idna-3.4-py3-none-any.whl (61 kB)\n",
      "                                              0.0/61.5 kB ? eta -:--:--\n",
      "     ---------------------------------------  61.4/61.5 kB 3.2 MB/s eta 0:00:01\n",
      "     ---------------------------------------- 61.5/61.5 kB 1.1 MB/s eta 0:00:00\n",
      "Collecting urllib3<3,>=1.21.1 (from requests>=2.31->yfinance)\n",
      "  Downloading urllib3-2.0.4-py3-none-any.whl (123 kB)\n",
      "                                              0.0/123.9 kB ? eta -:--:--\n",
      "     -------------------------------------  122.9/123.9 kB 3.6 MB/s eta 0:00:01\n",
      "     -------------------------------------  122.9/123.9 kB 3.6 MB/s eta 0:00:01\n",
      "     ------------------------------------ 123.9/123.9 kB 909.3 kB/s eta 0:00:00\n",
      "Collecting certifi>=2017.4.17 (from requests>=2.31->yfinance)\n",
      "  Downloading certifi-2023.7.22-py3-none-any.whl (158 kB)\n",
      "                                              0.0/158.3 kB ? eta -:--:--\n",
      "     -----------------------------          122.9/158.3 kB 2.4 MB/s eta 0:00:01\n",
      "     ------------------------------------   153.6/158.3 kB 3.1 MB/s eta 0:00:01\n",
      "     -------------------------------------- 158.3/158.3 kB 1.2 MB/s eta 0:00:00\n",
      "Installing collected packages: webencodings, pytz, multitasking, appdirs, urllib3, tzdata, soupsieve, numpy, lxml, idna, html5lib, frozendict, charset-normalizer, certifi, requests, pandas, beautifulsoup4, yfinance\n",
      "Successfully installed appdirs-1.4.4 beautifulsoup4-4.12.2 certifi-2023.7.22 charset-normalizer-3.2.0 frozendict-2.3.8 html5lib-1.1 idna-3.4 lxml-4.9.3 multitasking-0.0.11 numpy-1.25.2 pandas-2.0.3 pytz-2023.3 requests-2.31.0 soupsieve-2.4.1 tzdata-2023.3 urllib3-2.0.4 webencodings-0.5.1 yfinance-0.2.27\n",
      "Note: you may need to restart the kernel to use updated packages.\n"
     ]
    },
    {
     "name": "stderr",
     "output_type": "stream",
     "text": [
      "  WARNING: The script f2py.exe is installed in 'c:\\Users\\DELL\\AppData\\Local\\Programs\\Python\\Python311\\Scripts' which is not on PATH.\n",
      "  Consider adding this directory to PATH or, if you prefer to suppress this warning, use --no-warn-script-location.\n",
      "  WARNING: The script normalizer.exe is installed in 'c:\\Users\\DELL\\AppData\\Local\\Programs\\Python\\Python311\\Scripts' which is not on PATH.\n",
      "  Consider adding this directory to PATH or, if you prefer to suppress this warning, use --no-warn-script-location.\n",
      "  WARNING: The script sample.exe is installed in 'c:\\Users\\DELL\\AppData\\Local\\Programs\\Python\\Python311\\Scripts' which is not on PATH.\n",
      "  Consider adding this directory to PATH or, if you prefer to suppress this warning, use --no-warn-script-location.\n",
      "\n",
      "[notice] A new release of pip is available: 23.1.2 -> 23.2.1\n",
      "[notice] To update, run: python.exe -m pip install --upgrade pip\n"
     ]
    }
   ],
   "source": [
    "pip install yfinance"
   ]
  },
  {
   "cell_type": "code",
   "execution_count": 32,
   "metadata": {},
   "outputs": [],
   "source": [
    "import yfinance"
   ]
  },
  {
   "cell_type": "code",
   "execution_count": 33,
   "metadata": {},
   "outputs": [
    {
     "name": "stdout",
     "output_type": "stream",
     "text": [
      "[*********************100%***********************]  1 of 1 completed\n"
     ]
    },
    {
     "data": {
      "text/html": [
       "<div>\n",
       "<style scoped>\n",
       "    .dataframe tbody tr th:only-of-type {\n",
       "        vertical-align: middle;\n",
       "    }\n",
       "\n",
       "    .dataframe tbody tr th {\n",
       "        vertical-align: top;\n",
       "    }\n",
       "\n",
       "    .dataframe thead th {\n",
       "        text-align: right;\n",
       "    }\n",
       "</style>\n",
       "<table border=\"1\" class=\"dataframe\">\n",
       "  <thead>\n",
       "    <tr style=\"text-align: right;\">\n",
       "      <th></th>\n",
       "      <th>Open</th>\n",
       "      <th>High</th>\n",
       "      <th>Low</th>\n",
       "      <th>Close</th>\n",
       "      <th>Adj Close</th>\n",
       "      <th>Volume</th>\n",
       "    </tr>\n",
       "    <tr>\n",
       "      <th>Date</th>\n",
       "      <th></th>\n",
       "      <th></th>\n",
       "      <th></th>\n",
       "      <th></th>\n",
       "      <th></th>\n",
       "      <th></th>\n",
       "    </tr>\n",
       "  </thead>\n",
       "  <tbody>\n",
       "    <tr>\n",
       "      <th>2003-01-01</th>\n",
       "      <td>5.724499</td>\n",
       "      <td>5.946570</td>\n",
       "      <td>5.724499</td>\n",
       "      <td>5.879949</td>\n",
       "      <td>4.356911</td>\n",
       "      <td>0</td>\n",
       "    </tr>\n",
       "    <tr>\n",
       "      <th>2003-01-02</th>\n",
       "      <td>5.724499</td>\n",
       "      <td>5.946570</td>\n",
       "      <td>5.724499</td>\n",
       "      <td>5.879949</td>\n",
       "      <td>4.356911</td>\n",
       "      <td>8334330</td>\n",
       "    </tr>\n",
       "    <tr>\n",
       "      <th>2003-01-03</th>\n",
       "      <td>5.872546</td>\n",
       "      <td>5.909558</td>\n",
       "      <td>5.850339</td>\n",
       "      <td>5.872546</td>\n",
       "      <td>4.351425</td>\n",
       "      <td>18475096</td>\n",
       "    </tr>\n",
       "    <tr>\n",
       "      <th>2003-01-06</th>\n",
       "      <td>5.872546</td>\n",
       "      <td>6.116825</td>\n",
       "      <td>5.872546</td>\n",
       "      <td>6.104487</td>\n",
       "      <td>4.523288</td>\n",
       "      <td>16180223</td>\n",
       "    </tr>\n",
       "    <tr>\n",
       "      <th>2003-01-07</th>\n",
       "      <td>6.104487</td>\n",
       "      <td>6.104487</td>\n",
       "      <td>5.951505</td>\n",
       "      <td>5.963842</td>\n",
       "      <td>4.419074</td>\n",
       "      <td>15261074</td>\n",
       "    </tr>\n",
       "    <tr>\n",
       "      <th>...</th>\n",
       "      <td>...</td>\n",
       "      <td>...</td>\n",
       "      <td>...</td>\n",
       "      <td>...</td>\n",
       "      <td>...</td>\n",
       "      <td>...</td>\n",
       "    </tr>\n",
       "    <tr>\n",
       "      <th>2023-08-03</th>\n",
       "      <td>69.309998</td>\n",
       "      <td>69.349998</td>\n",
       "      <td>67.349998</td>\n",
       "      <td>67.410004</td>\n",
       "      <td>67.410004</td>\n",
       "      <td>25053073</td>\n",
       "    </tr>\n",
       "    <tr>\n",
       "      <th>2023-08-04</th>\n",
       "      <td>67.400002</td>\n",
       "      <td>69.099998</td>\n",
       "      <td>67.370003</td>\n",
       "      <td>69.070000</td>\n",
       "      <td>69.070000</td>\n",
       "      <td>11936860</td>\n",
       "    </tr>\n",
       "    <tr>\n",
       "      <th>2023-08-07</th>\n",
       "      <td>68.900002</td>\n",
       "      <td>69.589996</td>\n",
       "      <td>68.099998</td>\n",
       "      <td>68.300003</td>\n",
       "      <td>68.300003</td>\n",
       "      <td>15582252</td>\n",
       "    </tr>\n",
       "    <tr>\n",
       "      <th>2023-08-08</th>\n",
       "      <td>68.309998</td>\n",
       "      <td>68.639999</td>\n",
       "      <td>67.400002</td>\n",
       "      <td>67.809998</td>\n",
       "      <td>67.809998</td>\n",
       "      <td>18350539</td>\n",
       "    </tr>\n",
       "    <tr>\n",
       "      <th>2023-08-09</th>\n",
       "      <td>67.879997</td>\n",
       "      <td>68.750000</td>\n",
       "      <td>67.879997</td>\n",
       "      <td>68.260002</td>\n",
       "      <td>68.260002</td>\n",
       "      <td>8167945</td>\n",
       "    </tr>\n",
       "  </tbody>\n",
       "</table>\n",
       "<p>5213 rows × 6 columns</p>\n",
       "</div>"
      ],
      "text/plain": [
       "                 Open       High        Low      Close  Adj Close    Volume\n",
       "Date                                                                       \n",
       "2003-01-01   5.724499   5.946570   5.724499   5.879949   4.356911         0\n",
       "2003-01-02   5.724499   5.946570   5.724499   5.879949   4.356911   8334330\n",
       "2003-01-03   5.872546   5.909558   5.850339   5.872546   4.351425  18475096\n",
       "2003-01-06   5.872546   6.116825   5.872546   6.104487   4.523288  16180223\n",
       "2003-01-07   6.104487   6.104487   5.951505   5.963842   4.419074  15261074\n",
       "...               ...        ...        ...        ...        ...       ...\n",
       "2023-08-03  69.309998  69.349998  67.349998  67.410004  67.410004  25053073\n",
       "2023-08-04  67.400002  69.099998  67.370003  69.070000  69.070000  11936860\n",
       "2023-08-07  68.900002  69.589996  68.099998  68.300003  68.300003  15582252\n",
       "2023-08-08  68.309998  68.639999  67.400002  67.809998  67.809998  18350539\n",
       "2023-08-09  67.879997  68.750000  67.879997  68.260002  68.260002   8167945\n",
       "\n",
       "[5213 rows x 6 columns]"
      ]
     },
     "execution_count": 33,
     "metadata": {},
     "output_type": "execute_result"
    }
   ],
   "source": [
    "yfinance.download('WALMEX.MX')"
   ]
  },
  {
   "cell_type": "markdown",
   "metadata": {},
   "source": [
    "# Estadistica Aplicada\n",
    "### Sesion 3- 10m agosto\n",
    "### Alex Amaro Rojas 1959834"
   ]
  },
  {
   "cell_type": "markdown",
   "metadata": {},
   "source": [
    "Numpy (Numerical python) ayuda a manejar numeros en python (vectores, matrices, decimales)"
   ]
  },
  {
   "cell_type": "markdown",
   "metadata": {},
   "source": [
    "La estructura basica de Numpy son los arreglos (arrays).Un arreglo es una coleccion de objetos del mismo tipo"
   ]
  },
  {
   "cell_type": "markdown",
   "metadata": {},
   "source": [
    "Vamos a suponer que tenemos las ventas de botellas de agua de la cafeteria de la facu"
   ]
  },
  {
   "cell_type": "markdown",
   "metadata": {},
   "source": [
    "Lunes 23, Martes 45, Miercoles 34, Jueves 28, Viernes 20 "
   ]
  },
  {
   "cell_type": "code",
   "execution_count": 3,
   "metadata": {},
   "outputs": [],
   "source": [
    "import numpy as np"
   ]
  },
  {
   "cell_type": "code",
   "execution_count": 4,
   "metadata": {},
   "outputs": [],
   "source": [
    "ventas = [23, 45, 34, 28, 20]"
   ]
  },
  {
   "cell_type": "code",
   "execution_count": 5,
   "metadata": {},
   "outputs": [
    {
     "data": {
      "text/plain": [
       "list"
      ]
     },
     "execution_count": 5,
     "metadata": {},
     "output_type": "execute_result"
    }
   ],
   "source": [
    "type(ventas)"
   ]
  },
  {
   "cell_type": "code",
   "execution_count": 7,
   "metadata": {},
   "outputs": [],
   "source": [
    "ventas = np.array(ventas)"
   ]
  },
  {
   "cell_type": "code",
   "execution_count": 8,
   "metadata": {},
   "outputs": [
    {
     "data": {
      "text/plain": [
       "numpy.ndarray"
      ]
     },
     "execution_count": 8,
     "metadata": {},
     "output_type": "execute_result"
    }
   ],
   "source": [
    "type(ventas)"
   ]
  },
  {
   "cell_type": "code",
   "execution_count": 9,
   "metadata": {},
   "outputs": [
    {
     "data": {
      "text/plain": [
       "150"
      ]
     },
     "execution_count": 9,
     "metadata": {},
     "output_type": "execute_result"
    }
   ],
   "source": [
    "# suma \n",
    "np.sum(ventas)"
   ]
  },
  {
   "cell_type": "code",
   "execution_count": 10,
   "metadata": {},
   "outputs": [
    {
     "data": {
      "text/plain": [
       "19706400"
      ]
     },
     "execution_count": 10,
     "metadata": {},
     "output_type": "execute_result"
    }
   ],
   "source": [
    "# multiplicacion\n",
    "np.prod(ventas)"
   ]
  },
  {
   "cell_type": "code",
   "execution_count": 11,
   "metadata": {},
   "outputs": [
    {
     "data": {
      "text/plain": [
       "30.0"
      ]
     },
     "execution_count": 11,
     "metadata": {},
     "output_type": "execute_result"
    }
   ],
   "source": [
    "# media/promedio\n",
    "np.mean(ventas)"
   ]
  },
  {
   "cell_type": "code",
   "execution_count": 14,
   "metadata": {},
   "outputs": [
    {
     "data": {
      "text/plain": [
       "45"
      ]
     },
     "execution_count": 14,
     "metadata": {},
     "output_type": "execute_result"
    }
   ],
   "source": [
    "# valor\n",
    "np.max(ventas)"
   ]
  },
  {
   "cell_type": "code",
   "execution_count": 13,
   "metadata": {},
   "outputs": [
    {
     "data": {
      "text/plain": [
       "20"
      ]
     },
     "execution_count": 13,
     "metadata": {},
     "output_type": "execute_result"
    }
   ],
   "source": [
    "# valor minimo\n",
    "np.min(ventas)"
   ]
  },
  {
   "cell_type": "code",
   "execution_count": 15,
   "metadata": {},
   "outputs": [
    {
     "data": {
      "text/plain": [
       "array([20, 23, 28, 34, 45])"
      ]
     },
     "execution_count": 15,
     "metadata": {},
     "output_type": "execute_result"
    }
   ],
   "source": [
    "# ordenar\n",
    "np.sort(ventas)"
   ]
  },
  {
   "cell_type": "code",
   "execution_count": 18,
   "metadata": {},
   "outputs": [
    {
     "data": {
      "text/plain": [
       "78.8"
      ]
     },
     "execution_count": 18,
     "metadata": {},
     "output_type": "execute_result"
    }
   ],
   "source": [
    "# varianza poblacional\n",
    "np.var(ventas)"
   ]
  },
  {
   "cell_type": "code",
   "execution_count": 19,
   "metadata": {},
   "outputs": [
    {
     "data": {
      "text/plain": [
       "8.87693640846886"
      ]
     },
     "execution_count": 19,
     "metadata": {},
     "output_type": "execute_result"
    }
   ],
   "source": [
    "# desviacion est poblacional\n",
    "np.std(ventas)"
   ]
  },
  {
   "cell_type": "code",
   "execution_count": 20,
   "metadata": {},
   "outputs": [
    {
     "data": {
      "text/plain": [
       "98.5"
      ]
     },
     "execution_count": 20,
     "metadata": {},
     "output_type": "execute_result"
    }
   ],
   "source": [
    "# varianza muestral\n",
    "np.var(ventas, ddof=1)"
   ]
  },
  {
   "cell_type": "code",
   "execution_count": 21,
   "metadata": {},
   "outputs": [
    {
     "data": {
      "text/plain": [
       "9.924716620639604"
      ]
     },
     "execution_count": 21,
     "metadata": {},
     "output_type": "execute_result"
    }
   ],
   "source": [
    "# desviacion est muestral\n",
    "np.std(ventas, ddof= 1)"
   ]
  },
  {
   "cell_type": "code",
   "execution_count": 23,
   "metadata": {},
   "outputs": [
    {
     "data": {
      "text/plain": [
       "array([0, 1, 2, 3, 4, 5, 6, 7, 8])"
      ]
     },
     "execution_count": 23,
     "metadata": {},
     "output_type": "execute_result"
    }
   ],
   "source": [
    "# vector\n",
    "np.arange(9)"
   ]
  },
  {
   "cell_type": "code",
   "execution_count": 24,
   "metadata": {},
   "outputs": [
    {
     "data": {
      "text/plain": [
       "array([10, 11, 12, 13, 14, 15, 16, 17, 18, 19])"
      ]
     },
     "execution_count": 24,
     "metadata": {},
     "output_type": "execute_result"
    }
   ],
   "source": [
    "np.arange(10,20)"
   ]
  },
  {
   "cell_type": "code",
   "execution_count": 25,
   "metadata": {},
   "outputs": [
    {
     "data": {
      "text/plain": [
       "array([ 1, 16, 31, 46, 61, 76, 91])"
      ]
     },
     "execution_count": 25,
     "metadata": {},
     "output_type": "execute_result"
    }
   ],
   "source": [
    "np.arange(1,100,15)"
   ]
  },
  {
   "cell_type": "code",
   "execution_count": 27,
   "metadata": {},
   "outputs": [
    {
     "data": {
      "text/plain": [
       "array([11,  6, 17,  2,  3,  3, 12, 16, 22, 17])"
      ]
     },
     "execution_count": 27,
     "metadata": {},
     "output_type": "execute_result"
    }
   ],
   "source": [
    "## aleatorios uniformes\n",
    "# fijar semilla\n",
    "np.random.seed(12)\n",
    "## generan los numeros aleatorios\n",
    "np.random.randint(0,25,10)"
   ]
  }
 ],
 "metadata": {
  "kernelspec": {
   "display_name": "Python 3",
   "language": "python",
   "name": "python3"
  },
  "language_info": {
   "codemirror_mode": {
    "name": "ipython",
    "version": 3
   },
   "file_extension": ".py",
   "mimetype": "text/x-python",
   "name": "python",
   "nbconvert_exporter": "python",
   "pygments_lexer": "ipython3",
   "version": "3.11.4"
  },
  "orig_nbformat": 4
 },
 "nbformat": 4,
 "nbformat_minor": 2
}
